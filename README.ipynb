{
 "cells": [
  {
   "cell_type": "markdown",
   "metadata": {},
   "source": [
    "# Repositório Python\n",
    "\n",
    "Repositório contendo alguns dos meus projetos em Python."
   ]
  },
  {
   "cell_type": "markdown",
   "metadata": {},
   "source": [
    "## Tabela de Conteúdos\n",
    "\n",
    "- [Multiplicações entre Matrizes](#multiplicação-de-matrizes)"
   ]
  },
  {
   "cell_type": "markdown",
   "metadata": {},
   "source": [
    "## Multiplicação de Matrizes\n",
    "\n",
    "- Arquivo: `matriz.py`\n",
    "- Descrição: Programa que realiza a multiplicação de duas matrizes de ordem `m x n` e `n x p`\n",
    "- Sem bibliotecas externas"
   ]
  }
 ],
 "metadata": {
  "language_info": {
   "name": "python"
  },
  "orig_nbformat": 4
 },
 "nbformat": 4,
 "nbformat_minor": 2
}
