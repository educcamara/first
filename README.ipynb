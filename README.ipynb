{
 "cells": [
  {
   "cell_type": "markdown",
   "metadata": {},
   "source": [
    "# Repositório Python\n",
    "\n",
    "Repositório contendo alguns dos meus projetos em Python."
   ]
  },
  {
   "cell_type": "markdown",
   "metadata": {},
   "source": [
    "## Tabela de Conteúdos\n",
    "\n",
    "- [Multiplicações entre Matrizes](#multiplicação-de-matrizes)"
   ]
  },
  {
   "cell_type": "markdown",
   "metadata": {},
   "source": [
    "## Multiplicação de Matrizes\n",
    "\n",
    "- Arquivo: `matriz.py`\n",
    "- Função: `multiply_matrix(m1: [[int]], m2: [[int]]) -> [[int]]`\n",
    "- Descrição: Programa que realiza a multiplicação de duas matrizes de ordem `m x n` e `n x p`\n",
    "- Sem bibliotecas externas"
   ]
  },
  {
   "cell_type": "code",
   "execution_count": 1,
   "metadata": {},
   "outputs": [
    {
     "name": "stdout",
     "output_type": "stream",
     "text": [
      "[[2, 4], [1, 3]]\n"
     ]
    }
   ],
   "source": [
    "# Exemplo:\n",
    "matrix1 = [[1, 0], [0, 1]]\n",
    "matrix2 = [[2, 4], [1, 3]]\n",
    "\n",
    "# Passo 1\n",
    "if len(matrix1[0]) != len(matrix2):\n",
    "    raise Exception('Não é possível multiplicar as matrizes')\n",
    "\n",
    "# Passo 2\n",
    "matrix = []\n",
    "\n",
    "# Passo 3\n",
    "for i, row in enumerate(matrix1):\n",
    "    matrix.append([])\n",
    "    # Passo 4\n",
    "    for k, _ in enumerate(matrix2[0]):\n",
    "        result = 0\n",
    "        # Passo 5\n",
    "        for j, val in enumerate(matrix2):\n",
    "            result += row[j] * val[k]\n",
    "            # print(f'a{i+1}{j+1} b{j+1}{k+1}')\n",
    "        # Passo 6\n",
    "        matrix[i].append(result)\n",
    "\n",
    "print(matrix)"
   ]
  },
  {
   "cell_type": "markdown",
   "metadata": {},
   "source": [
    "1. Programa verifica se as matrizes são multiplicáveis\n",
    "`matriz 1: m x n`\n",
    "`matriz 2: n x p`\n",
    "\n"
   ]
  }
 ],
 "metadata": {
  "kernelspec": {
   "display_name": "Python 3",
   "language": "python",
   "name": "python3"
  },
  "language_info": {
   "codemirror_mode": {
    "name": "ipython",
    "version": 3
   },
   "file_extension": ".py",
   "mimetype": "text/x-python",
   "name": "python",
   "nbconvert_exporter": "python",
   "pygments_lexer": "ipython3",
   "version": "3.11.4"
  },
  "orig_nbformat": 4
 },
 "nbformat": 4,
 "nbformat_minor": 2
}
