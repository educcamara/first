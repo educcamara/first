{
 "cells": [
  {
   "cell_type": "markdown",
   "metadata": {},
   "source": [
    "# Repositório Python\n",
    "\n",
    "Repositório contendo alguns dos meus projetos em Python."
   ]
  },
  {
   "cell_type": "markdown",
   "metadata": {},
   "source": [
    "## Tabela de Conteúdos\n",
    "\n",
    "- [Multiplicações entre Matrizes](#multiplicação-de-matrizes)\n",
    "- [Criação de Matrizes](#criação-de-matrizes)"
   ]
  },
  {
   "cell_type": "markdown",
   "metadata": {},
   "source": [
    "## Multiplicação de Matrizes\n",
    "\n",
    "- Arquivo: `matriz.py`\n",
    "- Função: `multiply_matrix(m1: [[int]], m2: [[int]]) -> [[int]]`\n",
    "- Descrição: Programa que realiza a multiplicação de duas matrizes de ordem `m x n` e `n x p`\n",
    "- Sem bibliotecas externas"
   ]
  },
  {
   "cell_type": "code",
   "execution_count": 1,
   "metadata": {},
   "outputs": [
    {
     "name": "stdout",
     "output_type": "stream",
     "text": [
      "[[2, 4], [1, 3]]\n"
     ]
    }
   ],
   "source": [
    "# Exemplo:\n",
    "matrix1 = [[1, 0], [0, 1]]\n",
    "matrix2 = [[2, 4], [1, 3]]\n",
    "\n",
    "# Passo 1\n",
    "if len(matrix1[0]) != len(matrix2):\n",
    "    raise Exception('Não é possível multiplicar as matrizes')\n",
    "\n",
    "# Passo 2\n",
    "matrix = []\n",
    "\n",
    "# Passo 3\n",
    "for i, row in enumerate(matrix1):\n",
    "    matrix.append([])\n",
    "    # Passo 4\n",
    "    for k, _ in enumerate(matrix2[0]):\n",
    "        result = 0\n",
    "        # Passo 5\n",
    "        for j, row2 in enumerate(matrix2):\n",
    "        # Passo 6\n",
    "            result += row[j] * row2[k]\n",
    "            # print(f'a{i+1}{j+1} b{j+1}{k+1}')\n",
    "        matrix[i].append(result)\n",
    "\n",
    "print(matrix)"
   ]
  },
  {
   "cell_type": "markdown",
   "metadata": {},
   "source": [
    "1. Programa verifica se as matrizes são multiplicáveis\n",
    "`matriz 1: m x n`\n",
    "`matriz 2: n x p`\n",
    "\n",
    "2. Define previamente a matriz final (por enquanto vazia)\n",
    "`matrix = []`\n",
    "\n",
    "3. Inicia um laço `for` com `i` sendo o número da linha, e `row` sendo a linha em si\n",
    "`for i, row in enumerate(matrix1)`\n",
    "\n",
    "    3.1 Adiciona uma linha (por enquanto vazia) na nova matriz\n",
    "    `matrix.append([])`\n",
    "\n",
    "4. Inicia outro laço `for` com `k` sendo o número de colunas da segunda matriz\n",
    "`for k, _ in enumerate(matrix2[0])`\n",
    "\n",
    "    4.1 Variável temporária para guardar o resuldado dos valores das operações entre os elementos\n",
    "    `result = 0`\n",
    "\n",
    "5. Inicia mais um laço `for` com `j` sendo o index da linha de `matrix2` e `row2` sendo as linhas\n",
    "`for j, val in enumerate(matrix2)` \n",
    "\n",
    "6. Soma dos produtos entre cada elemento da linha `j` com cada `row2[k]` elemento de `matrix2`\n",
    "`result += row[j] * col[k]`\n",
    "    6.1 Adiciona o Resultado da soma à linha da nova matriz\n",
    "    `matrix[i].append(result)`"
   ]
  },
  {
   "cell_type": "markdown",
   "metadata": {},
   "source": [
    "# Criação de uma Matriz\n",
    "\n",
    "- Arquivo: `matriz.py`\n",
    "- Função: `create_matrix() -> [[int]]`\n",
    "- Descrição: Função que por meio de Input, cria uma matriz de ordem `m x n`\n",
    "- Sem bibliotecas externas"
   ]
  },
  {
   "cell_type": "code",
   "execution_count": null,
   "metadata": {},
   "outputs": [],
   "source": [
    "# Passo 1\n",
    "matrix = []\n",
    "while True:\n",
    "    row = input(\" > \")\n",
    "    # Passo 2\n",
    "    if not row:\n",
    "        break\n",
    "    # Passo 3\n",
    "    row = [int(x) for x in row.split()]\n",
    "    # Passo 4\n",
    "    if matrix:\n",
    "        if len(row) < len(matrix[0]):\n",
    "            row += [0] * (len(matrix[0]) - len(row))\n",
    "        elif len(row) > len(matrix[0]):\n",
    "            for i, _ in enumerate(matrix):\n",
    "                matrix[i] += [0] * (len(row) - len(matrix[i]))\n",
    "    #Passo 5\n",
    "    matrix.append(row)\n",
    "\n",
    "print(matrix)"
   ]
  },
  {
   "cell_type": "markdown",
   "metadata": {},
   "source": [
    "1. Criar previamente uma lista `matrix = []`, onde será adicionada as colunas\n",
    "\n",
    "    1.1 Iniciar um loop continuo com seu primeiro comando sendo o input do usuário\n",
    "\n",
    "    ```\n",
    "    while True:\n",
    "        row = input(\" > \")\n",
    "    ```\n",
    "\n",
    "2. Condição que causa a quebra do loop (quando o input é vazio)\n",
    "\n",
    "    ```\n",
    "    if not row:\n",
    "        break\n",
    "    ```\n",
    "\n",
    "3. Transforma o input em uma lista de inteiros por lista de compreensão \n",
    "\n",
    "    `row = [int(x) for x in row.split()]`\n",
    "\n",
    "4. Caso o usuário tenha dado uma linha com o tamanho diferente das diversas, adicionaremos 0s até que a linha tenha o tamanho correto\n",
    "\n",
    "    4.1 Quando a nova linha for menor:\n",
    "\n",
    "    ```\n",
    "    if len(row) < len(matrix[0]):\n",
    "        row += [0] * (len(matrix[0]) - len(row))\n",
    "    ```\n",
    "\n",
    "    4.2 Quando a nova linha for maior:\n",
    "    \n",
    "    ```\n",
    "    elif len(row) > len(matrix[0]):\n",
    "        for i, _ in enumerate(matrix):\n",
    "            matrix[i] += [0] * (len(row) - len(matrix[i]))\n",
    "    ```\n",
    "\n",
    "5. Adiciona a linha à matriz com `matrix.append(row)`"
   ]
  }
 ],
 "metadata": {
  "kernelspec": {
   "display_name": "Python 3",
   "language": "python",
   "name": "python3"
  },
  "language_info": {
   "codemirror_mode": {
    "name": "ipython",
    "version": 3
   },
   "file_extension": ".py",
   "mimetype": "text/x-python",
   "name": "python",
   "nbconvert_exporter": "python",
   "pygments_lexer": "ipython3",
   "version": "3.11.4"
  },
  "orig_nbformat": 4
 },
 "nbformat": 4,
 "nbformat_minor": 2
}
